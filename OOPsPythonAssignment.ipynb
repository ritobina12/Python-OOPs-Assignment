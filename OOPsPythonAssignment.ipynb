{
  "nbformat": 4,
  "nbformat_minor": 0,
  "metadata": {
    "colab": {
      "provenance": []
    },
    "kernelspec": {
      "name": "python3",
      "display_name": "Python 3"
    },
    "language_info": {
      "name": "python"
    }
  },
  "cells": [
    {
      "cell_type": "markdown",
      "source": [
        "**Python OOPs Assignment Answers**\n",
        "\n"
      ],
      "metadata": {
        "id": "cUAdz94bno_l"
      }
    },
    {
      "cell_type": "markdown",
      "source": [
        "**Theory Questions Answers**\n",
        "1. What is Object-Oriented Programming (OOP)?\n",
        "\n",
        "Answer: OOP is a programming paradigm that organizes software design around objects rather than functions and logic. It focuses on creating reusable code through concepts like classes, objects, inheritance, polymorphism, and encapsulation.\n",
        "\n",
        "2. What is a class in OOP?\n",
        "\n",
        "Answer: A class is a blueprint or template for creating objects. It defines the attributes (data) and methods (functions) that the objects created from the class will have.\n",
        "\n",
        "3. What is an object in OOP?\n",
        "\n",
        "Answer: An object is an instance of a class. It's a self-contained component that contains properties (attributes) and behaviors (methods) defined by its class.\n",
        "\n",
        "4. What is the difference between abstraction and encapsulation?\n",
        "\n",
        "Answer: Abstraction focuses on hiding complex implementation details and showing only essential features, while encapsulation is about bundling data and methods that operate on that data within a single unit (class) and restricting direct access to some components.\n",
        "\n",
        "5. What are dunder methods in Python?\n",
        "\n",
        "Answer: Dunder methods (double underscore methods) are special methods in Python that start and end with double underscores (e.g., __init__, __str__). They allow classes to implement operator overloading and other special behaviors.\n",
        "\n",
        "6. Explain the concept of inheritance in OOP.\n",
        "\n",
        "Answer: Inheritance is a mechanism where a new class (child/derived class) inherits attributes and methods from an existing class (parent/base class). It promotes code reusability and establishes relationships between classes.\n",
        "\n",
        "7. What is polymorphism in OOP?\n",
        "\n",
        "Answer: Polymorphism means \"many forms\" and refers to the ability of different objects to respond to the same method call in different ways. It allows methods to do different things based on the object calling them.\n",
        "\n",
        "8. How is encapsulation achieved in Python?\n",
        "\n",
        "Answer: Encapsulation in Python is achieved by using private variables (prefixed with _ or __) and providing public methods (getters/setters) to access and modify them. However, Python doesn't enforce strict encapsulation like some other languages.\n",
        "\n",
        "9. What is a constructor in Python?\n",
        "\n",
        "Answer: A constructor is a special method (__init__) that is automatically called when an object of a class is created. It's used to initialize the object's attributes.\n",
        "\n",
        "10. What are class and static methods in Python?\n",
        "\n",
        "Answer: Class methods are methods bound to the class rather than the instance. They take cls as the first parameter and can modify class state. Static methods are utility methods that don't have access to class or instance state and are defined using the @staticmethod decorator.\n",
        "\n",
        "11. What is method overloading in Python?\n",
        "\n",
        "Answer: Method overloading allows multiple methods with the same name but different parameters. Python doesn't support traditional method overloading, but it can be simulated using default arguments or variable-length arguments.\n",
        "\n",
        "12. What is method overriding in OOP?\n",
        "\n",
        "Answer: Method overriding occurs when a child class provides a specific implementation of a method that is already defined in its parent class.\n",
        "\n",
        "13. What is a property decorator in Python?\n",
        "\n",
        "Answer: The @property decorator allows a method to be accessed like an attribute, providing a way to implement getters, setters, and deleters for class attributes.\n",
        "\n",
        "14. Why is polymorphism important in OOP?\n",
        "\n",
        "Answer: Polymorphism allows for flexible and maintainable code by enabling a single interface to work with different data types. It makes code more readable and reduces complexity.\n",
        "\n",
        "15. What is an abstract class in Python?\n",
        "\n",
        "Answer: An abstract class is a class that cannot be instantiated and is meant to be subclassed. It contains one or more abstract methods that must be implemented by its subclasses. In Python, abstract classes are created using the abc module.\n",
        "\n",
        "16. What are the advantages of OOP?\n",
        "\n",
        "Answer: Advantages include: code reusability, modularity, easier maintenance, better organization, data hiding/security, and easier modeling of real-world scenarios.\n",
        "\n",
        "17. What is the difference between a class variable and an instance variable?\n",
        "\n",
        "Answer: Class variables are shared by all instances of the class and are defined within the class but outside any methods. Instance variables are unique to each instance and are defined inside methods (typically __init__).\n",
        "\n",
        "18. What is multiple inheritance in Python?\n",
        "\n",
        "Answer: Multiple inheritance is when a class can inherit attributes and methods from more than one parent class. Python supports multiple inheritance, unlike some other languages.\n",
        "\n",
        "19. Explain the purpose of __str__ and __repr__ methods in Python.\n",
        "\n",
        "Answer: __str__ provides a user-friendly string representation of an object (used by print() and str()), while __repr__ provides an unambiguous string representation (used by the interpreter and repr() function), ideally for debugging.\n",
        "\n",
        "20. What is the significance of the super() function in Python?\n",
        "\n",
        "Answer: super() returns a temporary object of the superclass, allowing you to call its methods. It's commonly used in inheritance to call parent class methods, especially in method overriding.\n",
        "\n",
        "21. What is the significance of the __del__ method in Python?\n",
        "\n",
        "Answer: __del__ is a destructor method called when an object is about to be destroyed. It's used to perform cleanup operations before the object is garbage collected.\n",
        "\n",
        "22. What is the difference between @staticmethod and @classmethod in Python?\n",
        "\n",
        "Answer: @classmethod takes the class (cls) as first argument and can access/modify class state, while @staticmethod doesn't take any special first argument and can't modify class or instance state.\n",
        "\n",
        "23. How does polymorphism work in Python with inheritance?\n",
        "\n",
        "Answer: In Python, polymorphism with inheritance allows child classes to override parent class methods. When a method is called on an object, Python checks the object's class first, then its parent classes, executing the first matching method found.\n",
        "\n",
        "24. What is method chaining in Python OOP?\n",
        "\n",
        "Answer: Method chaining is a technique where multiple methods are called on the same object in sequence, with each method returning the object itself (typically self), allowing the calls to be chained together in a single statement.\n",
        "\n",
        "25. What is the purpose of the __call__ method in Python?\n",
        "\n",
        "Answer: The __call__ method allows an instance of a class to be called like a function. When defined, you can use the syntax instance() which will invoke the __call__ method."
      ],
      "metadata": {
        "id": "OWEp65_yGIT3"
      }
    },
    {
      "cell_type": "markdown",
      "source": [
        "**Practical Questions with Answers**"
      ],
      "metadata": {
        "id": "qivvXxBiTrJ-"
      }
    },
    {
      "cell_type": "markdown",
      "source": [
        "1. Create a parent class Animal with a method speak() that prints a generic message. Create a child class Dog that overrides the speak() method to print \"Bark!\"."
      ],
      "metadata": {
        "id": "hb_j6FzXT4dn"
      }
    },
    {
      "cell_type": "code",
      "source": [
        "class Animal:\n",
        "    def speak(self):\n",
        "        print(\"Animal speaks\")\n",
        "\n",
        "class Dog(Animal):\n",
        "    def speak(self):\n",
        "        print(\"Bark!\")\n",
        "\n",
        "dog = Dog()\n",
        "dog.speak()  # Output: Bark!\n"
      ],
      "metadata": {
        "id": "etUTZ9DvnvA9",
        "colab": {
          "base_uri": "https://localhost:8080/"
        },
        "outputId": "e7d27d23-2c8e-4707-a547-897bf31bad43"
      },
      "execution_count": 23,
      "outputs": [
        {
          "output_type": "stream",
          "name": "stdout",
          "text": [
            "Bark!\n"
          ]
        }
      ]
    },
    {
      "cell_type": "markdown",
      "source": [
        "2. Write a program to create an abstract class Shape with a method area(). Derive classes Circle and Rectangle from it and implement the area() method in both."
      ],
      "metadata": {
        "id": "yquuF7cSUTKm"
      }
    },
    {
      "cell_type": "code",
      "source": [
        "from abc import ABC, abstractmethod\n",
        "\n",
        "class Shape(ABC):\n",
        "    @abstractmethod\n",
        "    def area(self):\n",
        "        pass\n",
        "\n",
        "class Circle(Shape):\n",
        "    def __init__(self, radius):\n",
        "        self.radius = radius\n",
        "\n",
        "    def area(self):\n",
        "        return 3.14 * self.radius ** 2\n",
        "\n",
        "class RectangleShape(Shape):\n",
        "    def __init__(self, length, width):\n",
        "        self.length = length\n",
        "        self.width = width\n",
        "\n",
        "    def area(self):\n",
        "        return self.length * self.width\n",
        "\n",
        "print(\"2. Shape classes:\")\n",
        "circle = Circle(5)\n",
        "rect_shape = RectangleShape(4, 6)\n",
        "print(f\"Circle area (r=5): {circle.area()}\")\n",
        "print(f\"Rectangle area (4x6): {rect_shape.area()}\")\n",
        "print()"
      ],
      "metadata": {
        "colab": {
          "base_uri": "https://localhost:8080/"
        },
        "id": "GfZA7rKAUSl8",
        "outputId": "aa056142-21df-4e10-e3cd-84a79d203a3b"
      },
      "execution_count": null,
      "outputs": [
        {
          "output_type": "stream",
          "name": "stdout",
          "text": [
            "2. Shape classes:\n",
            "Circle area (r=5): 78.5\n",
            "Rectangle area (4x6): 24\n",
            "\n"
          ]
        }
      ]
    },
    {
      "cell_type": "markdown",
      "source": [
        "3. Implement a multi-level inheritance scenario where a class Vehicle has an attribute type. Derive a class Car and further derive a class ElectricCar that adds a battery attribute."
      ],
      "metadata": {
        "id": "zdXAzSRU-ELw"
      }
    },
    {
      "cell_type": "code",
      "source": [
        "class Vehicle:\n",
        "    def __init__(self, type):\n",
        "        self.type = type\n",
        "\n",
        "class Car(Vehicle):\n",
        "    def __init__(self, type, brand):\n",
        "        super().__init__(type)\n",
        "        self.brand = brand\n",
        "\n",
        "class ElectricCar(Car):\n",
        "    def __init__(self, type, brand, battery):\n",
        "        super().__init__(type, brand)\n",
        "        self.battery = battery\n",
        "\n",
        "print(\"3. Vehicle hierarchy:\")\n",
        "tesla = ElectricCar(\"Sedan\", \"Tesla Model 3\", \"75 kWh\")\n",
        "print(f\"ElectricCar -> type: {tesla.type}, brand: {tesla.brand}, battery: {tesla.battery}\")\n",
        "print()"
      ],
      "metadata": {
        "colab": {
          "base_uri": "https://localhost:8080/"
        },
        "id": "UpCckT3k-c2K",
        "outputId": "eb90a100-7abd-4e9e-f452-472ad4dd7907"
      },
      "execution_count": null,
      "outputs": [
        {
          "output_type": "stream",
          "name": "stdout",
          "text": [
            "3. Vehicle hierarchy:\n",
            "ElectricCar -> type: Sedan, brand: Tesla Model 3, battery: 75 kWh\n",
            "\n"
          ]
        }
      ]
    },
    {
      "cell_type": "markdown",
      "source": [
        "4. Demonstrate polymorphism by creating a base class Bird with a method fly(). Create two derived classes Sparrow and Penguin that override the fly() method"
      ],
      "metadata": {
        "id": "vt0ONpPr-Mu5"
      }
    },
    {
      "cell_type": "code",
      "source": [
        "class Bird:\n",
        "    def fly(self):\n",
        "        print(\"Bird can fly\")\n",
        "\n",
        "class Sparrow(Bird):\n",
        "    def fly(self):\n",
        "        print(\"Sparrow flies fast\")\n",
        "\n",
        "class Penguin(Bird):\n",
        "    def fly(self):\n",
        "        print(\"Penguin cannot fly\")\n",
        "\n",
        "def bird_fly(bird):\n",
        "    bird.fly()\n",
        "\n",
        "print(\"4. Bird polymorphism:\")\n",
        "bird_fly(Sparrow())  # Output: Sparrow flies fast\n",
        "bird_fly(Penguin())  # Output: Penguin cannot fly\n",
        "print()"
      ],
      "metadata": {
        "colab": {
          "base_uri": "https://localhost:8080/"
        },
        "id": "8k-TwM3u-fie",
        "outputId": "e6a55575-ec7e-4cf7-9837-73fde3e6567e"
      },
      "execution_count": null,
      "outputs": [
        {
          "output_type": "stream",
          "name": "stdout",
          "text": [
            "4. Bird polymorphism:\n",
            "Sparrow flies fast\n",
            "Penguin cannot fly\n",
            "\n"
          ]
        }
      ]
    },
    {
      "cell_type": "markdown",
      "source": [
        "5. Write a program to demonstrate encapsulation by creating a class BankAccount with private attributes balance and methods to deposit, withdraw, and check balance."
      ],
      "metadata": {
        "id": "9FXAi-1E-gQT"
      }
    },
    {
      "cell_type": "code",
      "source": [
        "class BankAccount:\n",
        "    def __init__(self):\n",
        "        self.__balance = 0\n",
        "\n",
        "    def deposit(self, amount):\n",
        "        if amount > 0:\n",
        "            self.__balance += amount\n",
        "\n",
        "    def withdraw(self, amount):\n",
        "        if 0 < amount <= self.__balance:\n",
        "            self.__balance -= amount\n",
        "\n",
        "    def check_balance(self):\n",
        "        return self.__balance\n",
        "\n",
        "print(\"5. BankAccount:\")\n",
        "acct = BankAccount()\n",
        "acct.deposit(1000)\n",
        "acct.withdraw(200)\n",
        "print(f\"Balance after deposit 1000 and withdraw 200: {acct.check_balance()}\")\n",
        "print()"
      ],
      "metadata": {
        "colab": {
          "base_uri": "https://localhost:8080/"
        },
        "id": "HBrfxfju-mP7",
        "outputId": "2b8421e6-212a-4598-9cbb-c32bf91ecda7"
      },
      "execution_count": null,
      "outputs": [
        {
          "output_type": "stream",
          "name": "stdout",
          "text": [
            "5. BankAccount:\n",
            "Balance after deposit 1000 and withdraw 200: 800\n",
            "\n"
          ]
        }
      ]
    },
    {
      "cell_type": "markdown",
      "source": [
        "6. Demonstrate runtime polymorphism using a method play() in a base class Instrument. Derive classes Guitar and Piano that implement their own version of play()."
      ],
      "metadata": {
        "id": "DYwYopmh-nP6"
      }
    },
    {
      "cell_type": "code",
      "source": [
        "class Instrument:\n",
        "    def play(self):\n",
        "        print(\"Instrument plays sound\")\n",
        "\n",
        "class Guitar(Instrument):\n",
        "    def play(self):\n",
        "        print(\"Guitar strums\")\n",
        "\n",
        "class Piano(Instrument):\n",
        "    def play(self):\n",
        "        print(\"Piano keys pressed\")\n",
        "\n",
        "def play_instrument(instrument):\n",
        "    instrument.play()\n",
        "\n",
        "print(\"6. Instrument polymorphism:\")\n",
        "play_instrument(Guitar())  # Output: Guitar strums\n",
        "play_instrument(Piano())   # Output: Piano keys pressed\n",
        "print()"
      ],
      "metadata": {
        "colab": {
          "base_uri": "https://localhost:8080/"
        },
        "id": "oW5vZkJE-sof",
        "outputId": "c22e0f12-65bb-4347-d188-1a374a1d2dc7"
      },
      "execution_count": null,
      "outputs": [
        {
          "output_type": "stream",
          "name": "stdout",
          "text": [
            "6. Instrument polymorphism:\n",
            "Guitar strums\n",
            "Piano keys pressed\n",
            "\n"
          ]
        }
      ]
    },
    {
      "cell_type": "markdown",
      "source": [
        "7. Create a class MathOperations with a class method add_numbers() to add two numbers and a static method subtract_numbers() to subtract two numbers."
      ],
      "metadata": {
        "id": "oI63Kj4n-toz"
      }
    },
    {
      "cell_type": "code",
      "source": [
        "class MathOperations:\n",
        "    @classmethod\n",
        "    def add_numbers(cls, a, b):\n",
        "        return a + b\n",
        "\n",
        "    @staticmethod\n",
        "    def subtract_numbers(a, b):\n",
        "        return a - b\n",
        "\n",
        "print(\"7. MathOperations:\")\n",
        "print(f\"Add 10 + 5 = {MathOperations.add_numbers(10, 5)}\")\n",
        "print(f\"Subtract 10 - 5 = {MathOperations.subtract_numbers(10, 5)}\")\n",
        "print()"
      ],
      "metadata": {
        "colab": {
          "base_uri": "https://localhost:8080/"
        },
        "id": "btdRYq8d-xwa",
        "outputId": "080ab34e-f685-4a3d-e58f-2fb4c53ef1ac"
      },
      "execution_count": null,
      "outputs": [
        {
          "output_type": "stream",
          "name": "stdout",
          "text": [
            "7. MathOperations:\n",
            "Add 10 + 5 = 15\n",
            "Subtract 10 - 5 = 5\n",
            "\n"
          ]
        }
      ]
    },
    {
      "cell_type": "markdown",
      "source": [
        "8. Implement a class Person with a class method to count the total number of persons created."
      ],
      "metadata": {
        "id": "pv2OdXXE-14o"
      }
    },
    {
      "cell_type": "code",
      "source": [
        "class PersonCounter:\n",
        "    count = 0\n",
        "\n",
        "    def __init__(self):\n",
        "        PersonCounter.count += 1\n",
        "\n",
        "    @classmethod\n",
        "    def total_persons(cls):\n",
        "        return cls.count\n",
        "\n",
        "print(\"8. Person Counter:\")\n",
        "p1 = PersonCounter()\n",
        "p2 = PersonCounter()\n",
        "p3 = PersonCounter()\n",
        "print(f\"Total persons created: {PersonCounter.total_persons()}\")\n",
        "print()"
      ],
      "metadata": {
        "colab": {
          "base_uri": "https://localhost:8080/"
        },
        "id": "Xg0bCwhM-595",
        "outputId": "e62cbc28-8574-4e26-ab06-e8124f170fe8"
      },
      "execution_count": null,
      "outputs": [
        {
          "output_type": "stream",
          "name": "stdout",
          "text": [
            "8. Person Counter:\n",
            "Total persons created: 3\n",
            "\n"
          ]
        }
      ]
    },
    {
      "cell_type": "markdown",
      "source": [
        "9. Write a class Fraction with attributes numerator and denominator. Override the str method to display the fraction as \"numerator/denominator\"."
      ],
      "metadata": {
        "id": "LzoSIMaH-66f"
      }
    },
    {
      "cell_type": "code",
      "source": [
        "class Fraction:\n",
        "    def __init__(self, numerator, denominator):\n",
        "        self.numerator = numerator\n",
        "        self.denominator = denominator\n",
        "\n",
        "    def __str__(self):\n",
        "        return f\"{self.numerator}/{self.denominator}\"\n",
        "\n",
        "print(\"9. Fraction:\")\n",
        "frac = Fraction(3, 4)\n",
        "print(f\"Fraction: {frac}\")\n",
        "print()"
      ],
      "metadata": {
        "colab": {
          "base_uri": "https://localhost:8080/"
        },
        "id": "e8Cd0z_7_BLL",
        "outputId": "bbf9845c-0116-47ed-a171-07a1fc209c53"
      },
      "execution_count": null,
      "outputs": [
        {
          "output_type": "stream",
          "name": "stdout",
          "text": [
            "9. Fraction:\n",
            "Fraction: 3/4\n",
            "\n"
          ]
        }
      ]
    },
    {
      "cell_type": "markdown",
      "source": [
        "10. Demonstrate operator overloading by creating a class Vector and overriding the add method to add two vectors."
      ],
      "metadata": {
        "id": "ai1bRWtP_Cid"
      }
    },
    {
      "cell_type": "code",
      "source": [
        "class Vector:\n",
        "    def __init__(self, x, y):\n",
        "        self.x = x\n",
        "        self.y = y\n",
        "\n",
        "    def __add__(self, other):\n",
        "        return Vector(self.x + other.x, self.y + other.y)\n",
        "\n",
        "    def __str__(self):\n",
        "        return f\"Vector({self.x}, {self.y})\"\n",
        "\n",
        "print(\"10. Vector addition:\")\n",
        "v1 = Vector(1, 2)\n",
        "v2 = Vector(3, 4)\n",
        "v3 = v1 + v2\n",
        "print(f\"{v1} + {v2} = {v3}\")\n",
        "print()"
      ],
      "metadata": {
        "colab": {
          "base_uri": "https://localhost:8080/"
        },
        "id": "HBTyeb4v_Gmp",
        "outputId": "17b28914-bac1-42dc-b1e5-9ee6ef4065b1"
      },
      "execution_count": null,
      "outputs": [
        {
          "output_type": "stream",
          "name": "stdout",
          "text": [
            "10. Vector addition:\n",
            "Vector(1, 2) + Vector(3, 4) = Vector(4, 6)\n",
            "\n"
          ]
        }
      ]
    },
    {
      "cell_type": "markdown",
      "source": [
        "11. Create a class Person with attributes name and age. Add a method greet() that prints \"Hello, my name is {name} and I am {age} years old.\""
      ],
      "metadata": {
        "id": "DdRlymDS_HbM"
      }
    },
    {
      "cell_type": "code",
      "source": [
        "class Person:\n",
        "    def __init__(self, name, age):\n",
        "        self.name = name\n",
        "        self.age = age\n",
        "\n",
        "    def greet(self):\n",
        "        print(f\"Hello, my name is {self.name} and I am {self.age} years old.\")\n",
        "\n",
        "print(\"11. Person greet:\")\n",
        "person = Person(\"Rito\", 20)\n",
        "person.greet()\n",
        "print()"
      ],
      "metadata": {
        "colab": {
          "base_uri": "https://localhost:8080/"
        },
        "id": "DhvZRUdE_NFV",
        "outputId": "a2d78d90-24d7-4c2f-f1dc-6ba7bb2f76bc"
      },
      "execution_count": null,
      "outputs": [
        {
          "output_type": "stream",
          "name": "stdout",
          "text": [
            "11. Person greet:\n",
            "Hello, my name is Rito and I am 20 years old.\n",
            "\n"
          ]
        }
      ]
    },
    {
      "cell_type": "markdown",
      "source": [
        "12. Implement a class Student with attributes name and grades. Create a method average_grade() to compute the average of the grades."
      ],
      "metadata": {
        "id": "xWSiWi-6_Nxu"
      }
    },
    {
      "cell_type": "code",
      "source": [
        "class Student:\n",
        "    def __init__(self, name, grades):\n",
        "        self.name = name\n",
        "        self.grades = grades\n",
        "\n",
        "    def average_grade(self):\n",
        "        return sum(self.grades) / len(self.grades)\n",
        "\n",
        "print(\"12. Student average grade:\")\n",
        "student = Student(\"Bob\", [80, 90, 85])\n",
        "print(f\"{student.name}'s average grade: {student.average_grade()}\")\n",
        "print()"
      ],
      "metadata": {
        "colab": {
          "base_uri": "https://localhost:8080/"
        },
        "id": "1lRlfvLa_RfM",
        "outputId": "a9b1ce45-dca6-4ab2-c3fb-c2c4ac6883c7"
      },
      "execution_count": null,
      "outputs": [
        {
          "output_type": "stream",
          "name": "stdout",
          "text": [
            "12. Student average grade:\n",
            "Bob's average grade: 85.0\n",
            "\n"
          ]
        }
      ]
    },
    {
      "cell_type": "markdown",
      "source": [
        "13. Create a class Rectangle with methods set_dimensions() to set the dimensions and area() to calculate the area."
      ],
      "metadata": {
        "id": "OY6djQIo_ShY"
      }
    },
    {
      "cell_type": "code",
      "source": [
        "class Rectangle:\n",
        "    def set_dimensions(self, length, width):\n",
        "        self.length = length\n",
        "        self.width = width\n",
        "\n",
        "    def area(self):\n",
        "        return self.length * self.width\n",
        "\n",
        "print(\"13. Rectangle area:\")\n",
        "rect = Rectangle()\n",
        "rect.set_dimensions(7, 3)\n",
        "print(f\"Area of rectangle 7x3: {rect.area()}\")\n",
        "print()"
      ],
      "metadata": {
        "colab": {
          "base_uri": "https://localhost:8080/"
        },
        "id": "kl3XFjsK_WPf",
        "outputId": "17bd9e23-c573-4882-a5c4-212535c46b8a"
      },
      "execution_count": null,
      "outputs": [
        {
          "output_type": "stream",
          "name": "stdout",
          "text": [
            "13. Rectangle area:\n",
            "Area of rectangle 7x3: 21\n",
            "\n"
          ]
        }
      ]
    },
    {
      "cell_type": "markdown",
      "source": [
        "14. Create a class Employee with a method calculate_salary() that computes the salary based on hours worked and hourly rate. Create a derived class Manager that adds a bonus to the salary."
      ],
      "metadata": {
        "id": "w5XvTANI_a5h"
      }
    },
    {
      "cell_type": "code",
      "source": [
        "class Employee:\n",
        "    def __init__(self, hours, rate):\n",
        "        self.hours = hours\n",
        "        self.rate = rate\n",
        "\n",
        "    def calculate_salary(self):\n",
        "        return self.hours * self.rate\n",
        "\n",
        "class Manager(Employee):\n",
        "    def __init__(self, hours, rate, bonus):\n",
        "        super().__init__(hours, rate)\n",
        "        self.bonus = bonus\n",
        "\n",
        "    def calculate_salary(self):\n",
        "        return super().calculate_salary() + self.bonus\n",
        "\n",
        "print(\"14. Employee / Manager salary:\")\n",
        "mgr = Manager(40, 50, 1000)  # 40 hours, $50/hr, $1000 bonus\n",
        "print(f\"Manager salary: {mgr.calculate_salary()}\")\n",
        "print()"
      ],
      "metadata": {
        "colab": {
          "base_uri": "https://localhost:8080/"
        },
        "id": "vJOIbLo6_fPN",
        "outputId": "435e7d9c-4b4e-43a7-8653-d832e7332c36"
      },
      "execution_count": null,
      "outputs": [
        {
          "output_type": "stream",
          "name": "stdout",
          "text": [
            "14. Employee / Manager salary:\n",
            "Manager salary: 3000\n",
            "\n"
          ]
        }
      ]
    },
    {
      "cell_type": "markdown",
      "source": [
        "15. Create a class Product with attributes name, price, and quantity. Implement a method total_price() that calculates the total price of the product."
      ],
      "metadata": {
        "id": "wpbE0Jji_gP7"
      }
    },
    {
      "cell_type": "code",
      "source": [
        "class Product:\n",
        "    def __init__(self, name, price, quantity):\n",
        "        self.name = name\n",
        "        self.price = price\n",
        "        self.quantity = quantity\n",
        "\n",
        "    def total_price(self):\n",
        "        return self.price * self.quantity\n",
        "\n",
        "print(\"15. Product total price:\")\n",
        "prod = Product(\"Laptop\", 800, 3)\n",
        "print(f\"Total price for {prod.quantity} {prod.name}s at ${prod.price} each: ${prod.total_price()}\")\n",
        "print()"
      ],
      "metadata": {
        "colab": {
          "base_uri": "https://localhost:8080/"
        },
        "id": "nOaI7FPC_kG6",
        "outputId": "46c32b60-074b-4996-89c6-a2ac3bafe5cf"
      },
      "execution_count": null,
      "outputs": [
        {
          "output_type": "stream",
          "name": "stdout",
          "text": [
            "15. Product total price:\n",
            "Total price for 3 Laptops at $800 each: $2400\n",
            "\n"
          ]
        }
      ]
    },
    {
      "cell_type": "markdown",
      "source": [
        "16. Create a class Animal with an abstract method sound(). Create two derived classes Cow and Sheep that implement the sound() method."
      ],
      "metadata": {
        "id": "EdjU7v29BoNa"
      }
    },
    {
      "cell_type": "code",
      "source": [
        "from abc import ABC, abstractmethod\n",
        "class AbstractAnimal(ABC):\n",
        "    @abstractmethod\n",
        "    def sound(self):\n",
        "        pass\n",
        "\n",
        "class Cow(AbstractAnimal):\n",
        "    def sound(self):\n",
        "        print(\"Moo\")\n",
        "\n",
        "class Sheep(AbstractAnimal):\n",
        "    def sound(self):\n",
        "        print(\"Baa\")\n",
        "\n",
        "print(\"16. Animal sounds:\")\n",
        "Cow().sound()\n",
        "Sheep().sound()\n",
        "print()"
      ],
      "metadata": {
        "colab": {
          "base_uri": "https://localhost:8080/"
        },
        "id": "VbVxtelDBsCN",
        "outputId": "713c429c-a3ea-44ce-f07a-f958bac24d0f"
      },
      "execution_count": null,
      "outputs": [
        {
          "output_type": "stream",
          "name": "stdout",
          "text": [
            "16. Animal sounds:\n",
            "Moo\n",
            "Baa\n",
            "\n"
          ]
        }
      ]
    },
    {
      "cell_type": "markdown",
      "source": [
        "17. Create a class Book with attributes title, author, and year_published. Add a method get_book_info() that returns a formatted string with the book's details."
      ],
      "metadata": {
        "id": "UjUefWs7Bsxl"
      }
    },
    {
      "cell_type": "code",
      "source": [
        "class Book:\n",
        "    def __init__(self, title, author, year_published):\n",
        "        self.title = title\n",
        "        self.author = author\n",
        "        self.year_published = year_published\n",
        "\n",
        "    def get_book_info(self):\n",
        "        return f\"Title: {self.title}, Author: {self.author}, Year: {self.year_published}\"\n",
        "\n",
        "print(\"17. Book info:\")\n",
        "book = Book(\"1984\", \"George Orwell\", 1949)\n",
        "print(book.get_book_info())\n",
        "print()"
      ],
      "metadata": {
        "colab": {
          "base_uri": "https://localhost:8080/"
        },
        "id": "M5jGar_xBwMS",
        "outputId": "b44e5177-d655-4cdb-e100-222b6e9c50ff"
      },
      "execution_count": null,
      "outputs": [
        {
          "output_type": "stream",
          "name": "stdout",
          "text": [
            "17. Book info:\n",
            "Title: 1984, Author: George Orwell, Year: 1949\n",
            "\n"
          ]
        }
      ]
    },
    {
      "cell_type": "markdown",
      "source": [
        "18. Create a class House with attributes address and price. Create a derived class Mansion that adds an attribute number_of_rooms."
      ],
      "metadata": {
        "id": "hrD9hTqLBxcT"
      }
    },
    {
      "cell_type": "code",
      "source": [
        "class House:\n",
        "    def __init__(self, address, price):\n",
        "        self.address = address\n",
        "        self.price = price\n",
        "\n",
        "class Mansion(House):\n",
        "    def __init__(self, address, price, number_of_rooms):\n",
        "        super().__init__(address, price)\n",
        "        self.number_of_rooms = number_of_rooms\n",
        "\n",
        "print(\"18. House / Mansion:\")\n",
        "mansion = Mansion(\"123 Luxury Lane\", 5000000, 15)\n",
        "print(f\"Mansion address: {mansion.address}, price: {mansion.price}, rooms: {mansion.number_of_rooms}\")"
      ],
      "metadata": {
        "colab": {
          "base_uri": "https://localhost:8080/"
        },
        "id": "HTCRcOF2B1Iz",
        "outputId": "98de1b71-4fbd-4cd6-af19-ea770ef0fc65"
      },
      "execution_count": null,
      "outputs": [
        {
          "output_type": "stream",
          "name": "stdout",
          "text": [
            "18. House / Mansion:\n",
            "Mansion address: 123 Luxury Lane, price: 5000000, rooms: 15\n"
          ]
        }
      ]
    }
  ]
}